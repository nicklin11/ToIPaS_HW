{
 "cells": [
  {
   "cell_type": "markdown",
   "metadata": {},
   "source": [
    "# Импортируем необходимые библиотеки\n",
    "# Разделение данных на train, validation и test с распределением 60/20/20"
   ]
  },
  {
   "cell_type": "code",
   "execution_count": 18,
   "metadata": {},
   "outputs": [],
   "source": [
    "import pandas as pd\n",
    "from sklearn.model_selection import train_test_split\n",
    "from sklearn.tree import DecisionTreeRegressor\n",
    "from sklearn.ensemble import RandomForestRegressor\n",
    "from sklearn.feature_extraction import DictVectorizer\n",
    "from sklearn.metrics import root_mean_squared_error\n",
    "import xgboost as xgb\n",
    "import numpy as np\n",
    "\n",
    "# Загрузка данных \n",
    "df = pd.read_csv('data/jamb_exam_results.csv') \n",
    "\n",
    "# Преобразование названий колонок к нижнему регистру и замена пробелов на подчеркивания\n",
    "df.columns = df.columns.str.lower().str.replace(' ', '_')\n",
    "\n",
    "# Удаление столбца student_id\n",
    "df = df.drop(columns=['student_id'])\n",
    "\n",
    "# Заполнение пропущенных значений нулями\n",
    "df = df.fillna(0)\n",
    "\n",
    "\n",
    "df_full_train, df_test = train_test_split(df, test_size=0.2, random_state=1)\n",
    "df_train, df_val = train_test_split(df_full_train, test_size=0.25, random_state=1)  # 0.25 * 0.8 = 0.2\n",
    "\n",
    "# Выделение целевой переменной и признаков\n",
    "y_train = df_train.jamb_score.values\n",
    "y_val = df_val.jamb_score.values\n",
    "y_test = df_test.jamb_score.values\n",
    "\n",
    "df_train = df_train.drop(columns=['jamb_score'])\n",
    "df_val = df_val.drop(columns=['jamb_score'])\n",
    "df_test = df_test.drop(columns=['jamb_score'])\n",
    "\n",
    "# Преобразование датафреймов в матрицы\n",
    "dv = DictVectorizer(sparse=True)\n",
    "X_train = dv.fit_transform(df_train.to_dict(orient='records'))\n",
    "X_val = dv.transform(df_val.to_dict(orient='records'))\n",
    "X_test = dv.transform(df_test.to_dict(orient='records'))"
   ]
  },
  {
   "cell_type": "markdown",
   "metadata": {},
   "source": [
    "# Вопрос 1: Обучение дерева решений"
   ]
  },
  {
   "cell_type": "code",
   "execution_count": 19,
   "metadata": {},
   "outputs": [
    {
     "name": "stdout",
     "output_type": "stream",
     "text": [
      "Вопрос 1: Признак для разбиения данных: study_hours_per_week\n"
     ]
    }
   ],
   "source": [
    "dt = DecisionTreeRegressor(max_depth=1, random_state=1)\n",
    "dt.fit(X_train, y_train)\n",
    "\n",
    "# Получение признака, используемого для разбиения\n",
    "feature = dv.get_feature_names_out()[dt.tree_.feature[0]]\n",
    "print(\"Вопрос 1: Признак для разбиения данных:\", feature)"
   ]
  },
  {
   "cell_type": "markdown",
   "metadata": {},
   "source": [
    "# Вопрос 2: Обучение случайного леса"
   ]
  },
  {
   "cell_type": "code",
   "execution_count": 20,
   "metadata": {},
   "outputs": [
    {
     "name": "stdout",
     "output_type": "stream",
     "text": [
      "Вопрос 2: RMSE случайного леса на валидационных данных: 42.14\n"
     ]
    }
   ],
   "source": [
    "rf = RandomForestRegressor(n_estimators=10, random_state=1, n_jobs=-1)\n",
    "rf.fit(X_train, y_train)\n",
    "\n",
    "y_pred = rf.predict(X_val)\n",
    "rmse_val = root_mean_squared_error(y_val, y_pred)\n",
    "print(\"Вопрос 2: RMSE случайного леса на валидационных данных:\", round(rmse_val, 2))"
   ]
  },
  {
   "cell_type": "markdown",
   "metadata": {},
   "source": [
    "# Вопрос 3: Эксперимент с n_estimators"
   ]
  },
  {
   "cell_type": "code",
   "execution_count": 21,
   "metadata": {},
   "outputs": [
    {
     "name": "stdout",
     "output_type": "stream",
     "text": [
      "Вопрос 3: n_estimators, после которого RMSE перестает улучшаться: 90\n"
     ]
    }
   ],
   "source": [
    "rmse_values = []\n",
    "for n in range(10, 201, 10):\n",
    "    rf = RandomForestRegressor(n_estimators=n, random_state=1, n_jobs=-1)\n",
    "    rf.fit(X_train, y_train)\n",
    "    y_pred = rf.predict(X_val)\n",
    "    rmse = root_mean_squared_error(y_val, y_pred)\n",
    "    rmse_values.append(rmse)\n",
    "\n",
    "# Поиск значения n_estimators, после которого RMSE перестает улучшаться\n",
    "best_n_estimators = 10 + (10 * np.argmin(np.diff(rmse_values) < 0.001))\n",
    "print(\"Вопрос 3: n_estimators, после которого RMSE перестает улучшаться:\", best_n_estimators)"
   ]
  },
  {
   "cell_type": "markdown",
   "metadata": {},
   "source": [
    "# Вопрос 4: Поиск лучшего значения max_depth"
   ]
  },
  {
   "cell_type": "code",
   "execution_count": 22,
   "metadata": {},
   "outputs": [
    {
     "name": "stdout",
     "output_type": "stream",
     "text": [
      "Вопрос 4: Лучшее значение max_depth по среднему RMSE: 10\n"
     ]
    }
   ],
   "source": [
    "\n",
    "best_rmse = float('inf')\n",
    "best_depth = None\n",
    "for depth in [10, 15, 20, 25]:\n",
    "    rmse_list = []\n",
    "    for n in range(10, 201, 10):\n",
    "        rf = RandomForestRegressor(n_estimators=n, max_depth=depth, random_state=1, n_jobs=-1)\n",
    "        rf.fit(X_train, y_train)\n",
    "        y_pred = rf.predict(X_val)\n",
    "        rmse = root_mean_squared_error(y_val, y_pred)\n",
    "        rmse_list.append(rmse)\n",
    "    \n",
    "    avg_rmse = np.mean(rmse_list)\n",
    "    if avg_rmse < best_rmse:\n",
    "        best_rmse = avg_rmse\n",
    "        best_depth = depth\n",
    "\n",
    "print(\"Вопрос 4: Лучшее значение max_depth по среднему RMSE:\", best_depth)"
   ]
  },
  {
   "cell_type": "markdown",
   "metadata": {},
   "source": [
    "# Вопрос 5: Определение важности признаков"
   ]
  },
  {
   "cell_type": "code",
   "execution_count": 23,
   "metadata": {},
   "outputs": [
    {
     "name": "stdout",
     "output_type": "stream",
     "text": [
      "Вопрос 5: Самый важный признак: study_hours_per_week\n"
     ]
    }
   ],
   "source": [
    "rf = RandomForestRegressor(n_estimators=10, max_depth=20, random_state=1, n_jobs=-1)\n",
    "rf.fit(X_train, y_train)\n",
    "\n",
    "# Получение важности признаков\n",
    "feature_importances = rf.feature_importances_\n",
    "important_feature = dv.get_feature_names_out()[np.argmax(feature_importances)]\n",
    "print(\"Вопрос 5: Самый важный признак:\", important_feature)"
   ]
  },
  {
   "cell_type": "markdown",
   "metadata": {},
   "source": [
    "# Вопрос 6: Обучение модели XGBoost с разными значениями eta"
   ]
  },
  {
   "cell_type": "code",
   "execution_count": 24,
   "metadata": {},
   "outputs": [
    {
     "name": "stdout",
     "output_type": "stream",
     "text": [
      "Вопрос 6: Лучшее значение eta: 0.1\n"
     ]
    }
   ],
   "source": [
    "# Настройки для XGBoost\n",
    "dtrain = xgb.DMatrix(X_train, label=y_train)\n",
    "dval = xgb.DMatrix(X_val, label=y_val)\n",
    "watchlist = [(dtrain, 'train'), (dval, 'eval')]\n",
    "\n",
    "# Модель с eta=0.3\n",
    "xgb_params_03 = {\n",
    "    'eta': 0.3,\n",
    "    'max_depth': 6,\n",
    "    'min_child_weight': 1,\n",
    "    'objective': 'reg:squarederror',\n",
    "    'seed': 1,\n",
    "    'verbosity': 1\n",
    "}\n",
    "model_03 = xgb.train(xgb_params_03, dtrain, num_boost_round=100, evals=watchlist, early_stopping_rounds=10, verbose_eval=False)\n",
    "\n",
    "# Модель с eta=0.1\n",
    "xgb_params_01 = {\n",
    "    'eta': 0.1,\n",
    "    'max_depth': 6,\n",
    "    'min_child_weight': 1,\n",
    "    'objective': 'reg:squarederror',\n",
    "    'seed': 1,\n",
    "    'verbosity': 1\n",
    "}\n",
    "model_01 = xgb.train(xgb_params_01, dtrain, num_boost_round=100, evals=watchlist, early_stopping_rounds=10, verbose_eval=False)\n",
    "\n",
    "# Сравнение RMSE моделей\n",
    "rmse_03 = model_03.best_score\n",
    "rmse_01 = model_01.best_score\n",
    "\n",
    "if rmse_03 < rmse_01:\n",
    "    best_eta = 0.3\n",
    "elif rmse_01 < rmse_03:\n",
    "    best_eta = 0.1\n",
    "else:\n",
    "    best_eta = 'Both give equal value'\n",
    "\n",
    "print(\"Вопрос 6: Лучшее значение eta:\", best_eta)"
   ]
  }
 ],
 "metadata": {
  "kernelspec": {
   "display_name": "Python 3",
   "language": "python",
   "name": "python3"
  },
  "language_info": {
   "codemirror_mode": {
    "name": "ipython",
    "version": 3
   },
   "file_extension": ".py",
   "mimetype": "text/x-python",
   "name": "python",
   "nbconvert_exporter": "python",
   "pygments_lexer": "ipython3",
   "version": "3.11.3"
  }
 },
 "nbformat": 4,
 "nbformat_minor": 2
}
