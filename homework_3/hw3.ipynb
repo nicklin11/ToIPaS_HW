{
 "cells": [
  {
   "cell_type": "markdown",
   "metadata": {},
   "source": [
    "# Вопрос 1 Импортируем библиотеки и загружаем данные"
   ]
  },
  {
   "cell_type": "code",
   "execution_count": 18,
   "metadata": {},
   "outputs": [
    {
     "name": "stdout",
     "output_type": "stream",
     "text": [
      "Самое частое значение в 'education': secondary\n"
     ]
    }
   ],
   "source": [
    "import pandas as pd\n",
    "\n",
    "data = pd.read_csv('data/bank-full.csv', sep=';')\n",
    "# Вычисляем моду\n",
    "education_mode = data['education'].mode()[0]\n",
    "\n",
    "print(\"Самое частое значение в 'education':\", education_mode)"
   ]
  },
  {
   "cell_type": "markdown",
   "metadata": {},
   "source": [
    "# Вопрос 2 Вычисляем корреляционную матрицу"
   ]
  },
  {
   "cell_type": "code",
   "execution_count": 19,
   "metadata": {},
   "outputs": [
    {
     "name": "stdout",
     "output_type": "stream",
     "text": [
      "Наибольшая корреляция:\n",
      " age       age         1.000000\n",
      "balance   balance     1.000000\n",
      "day       day         1.000000\n",
      "campaign  campaign    1.000000\n",
      "duration  duration    1.000000\n",
      "pdays     pdays       1.000000\n",
      "previous  previous    1.000000\n",
      "pdays     previous    0.454820\n",
      "previous  pdays       0.454820\n",
      "day       campaign    0.162490\n",
      "campaign  day         0.162490\n",
      "balance   age         0.097783\n",
      "age       balance     0.097783\n",
      "balance   duration    0.021560\n",
      "duration  balance     0.021560\n",
      "previous  balance     0.016674\n",
      "balance   previous    0.016674\n",
      "campaign  age         0.004760\n",
      "age       campaign    0.004760\n",
      "balance   day         0.004503\n",
      "day       balance     0.004503\n",
      "balance   pdays       0.003435\n",
      "pdays     balance     0.003435\n",
      "previous  age         0.001288\n",
      "age       previous    0.001288\n",
      "duration  previous    0.001203\n",
      "previous  duration    0.001203\n",
      "pdays     duration   -0.001565\n",
      "duration  pdays      -0.001565\n",
      "age       duration   -0.004648\n",
      "duration  age        -0.004648\n",
      "age       day        -0.009120\n",
      "day       age        -0.009120\n",
      "campaign  balance    -0.014578\n",
      "balance   campaign   -0.014578\n",
      "age       pdays      -0.023758\n",
      "pdays     age        -0.023758\n",
      "day       duration   -0.030206\n",
      "duration  day        -0.030206\n",
      "previous  campaign   -0.032855\n",
      "campaign  previous   -0.032855\n",
      "previous  day        -0.051710\n",
      "day       previous   -0.051710\n",
      "duration  campaign   -0.084570\n",
      "campaign  duration   -0.084570\n",
      "pdays     campaign   -0.088628\n",
      "campaign  pdays      -0.088628\n",
      "day       pdays      -0.093044\n",
      "pdays     day        -0.093044\n",
      "dtype: float64\n"
     ]
    }
   ],
   "source": [
    "\n",
    "# Выбор только числовых признаков\n",
    "numeric_data = data[['age', 'balance', 'day', 'duration', 'campaign', 'pdays', 'previous']]\n",
    "correlation_matrix = numeric_data.corr()\n",
    "\n",
    "# Нахождение пары признаков с наибольшей корреляцией\n",
    "max_corr = correlation_matrix.unstack().sort_values(ascending=False)\n",
    "print(\"Наибольшая корреляция:\\n\", max_corr)\n"
   ]
  },
  {
   "cell_type": "markdown",
   "metadata": {},
   "source": [
    "# Вопрос 3 Вычисление взаимной информации"
   ]
  },
  {
   "cell_type": "code",
   "execution_count": 20,
   "metadata": {},
   "outputs": [
    {
     "name": "stdout",
     "output_type": "stream",
     "text": [
      "Взаимная информация:\n",
      " age                    0.01\n",
      "balance                0.10\n",
      "day                    0.01\n",
      "duration               0.10\n",
      "campaign               0.00\n",
      "pdays                  0.03\n",
      "previous               0.01\n",
      "job_blue-collar        0.00\n",
      "job_entrepreneur       0.00\n",
      "job_housemaid          0.00\n",
      "job_management         0.00\n",
      "job_retired            0.00\n",
      "job_self-employed      0.00\n",
      "job_services           0.00\n",
      "job_student            0.00\n",
      "job_technician         0.00\n",
      "job_unemployed         0.00\n",
      "job_unknown            0.00\n",
      "marital_married        0.00\n",
      "marital_single         0.00\n",
      "education_secondary    0.00\n",
      "education_tertiary     0.00\n",
      "education_unknown      0.00\n",
      "housing_yes            0.01\n",
      "contact_telephone      0.00\n",
      "contact_unknown        0.01\n",
      "month_aug              0.00\n",
      "month_dec              0.00\n",
      "month_feb              0.00\n",
      "month_jan              0.00\n",
      "month_jul              0.00\n",
      "month_jun              0.00\n",
      "month_mar              0.01\n",
      "month_may              0.01\n",
      "month_nov              0.00\n",
      "month_oct              0.01\n",
      "month_sep              0.00\n",
      "poutcome_other         0.00\n",
      "poutcome_success       0.03\n",
      "poutcome_unknown       0.01\n",
      "dtype: float64\n"
     ]
    }
   ],
   "source": [
    "from sklearn.model_selection import train_test_split\n",
    "from sklearn.feature_selection import mutual_info_classif\n",
    "\n",
    "# Выбор необходимых признаков\n",
    "features = ['age', 'job', 'marital', 'education', 'balance', 'housing', \n",
    "            'contact', 'day', 'month', 'duration', 'campaign', \n",
    "            'pdays', 'previous', 'poutcome']\n",
    "X = data[features]\n",
    "y = data['y'].map({'yes': 1, 'no': 0})  # Кодирование целевой переменной\n",
    "\n",
    "# Применение one-hot кодирования к категориальным переменным\n",
    "X_encoded = pd.get_dummies(X, drop_first=True)\n",
    "\n",
    "# Разделение данных на тренировочный и тестовый наборы\n",
    "X_train, X_val, y_train, y_val = train_test_split(X_encoded, y, test_size=0.2, random_state=42)\n",
    "\n",
    "# Вычисление взаимной информации\n",
    "mi_scores = mutual_info_classif(X_train, y_train, discrete_features=True)\n",
    "mi_scores_series = pd.Series(mi_scores, index=X_train.columns)\n",
    "print(\"Взаимная информация:\\n\", mi_scores_series.round(2))\n"
   ]
  },
  {
   "cell_type": "markdown",
   "metadata": {},
   "source": [
    "# Вопрос 4 Обучение логистической регрессии и расчет точности"
   ]
  },
  {
   "cell_type": "code",
   "execution_count": 21,
   "metadata": {},
   "outputs": [
    {
     "name": "stdout",
     "output_type": "stream",
     "text": [
      "Точность на валидационном наборе: 0.9\n"
     ]
    }
   ],
   "source": [
    "from sklearn.linear_model import LogisticRegression\n",
    "from sklearn.metrics import accuracy_score\n",
    "\n",
    "model = LogisticRegression(solver='liblinear', C=1.0, max_iter=1000, random_state=42)\n",
    "model.fit(X_train, y_train)\n",
    "\n",
    "accuracy = accuracy_score(y_val, model.predict(X_val))\n",
    "print(\"Точность на валидационном наборе:\", round(accuracy, 2))\n"
   ]
  },
  {
   "cell_type": "markdown",
   "metadata": {},
   "source": [
    "# Вопрос 5 Оценка важности каждого признака"
   ]
  },
  {
   "cell_type": "code",
   "execution_count": 22,
   "metadata": {},
   "outputs": [
    {
     "name": "stdout",
     "output_type": "stream",
     "text": [
      "Точность модели со всеми признаками: 0.8987\n",
      "Точность без признака age: 0.8994, Разница: -0.0007\n",
      "Точность без признака balance: 0.8994, Разница: -0.0007\n",
      "Точность без признака marital: 0.8989, Разница: -0.0002\n",
      "Точность без признака previous: 0.8995, Разница: -0.0008\n",
      "Наименее важный признак: previous, Разница: -0.0008\n"
     ]
    }
   ],
   "source": [
    "# Исходная точность модели\n",
    "base_accuracy = accuracy_score(y_val, model.predict(X_val))\n",
    "print(\"Точность модели со всеми признаками:\", round(base_accuracy, 4))\n",
    "\n",
    "# Список признаков для оценки\n",
    "features_to_test = ['age', 'balance', 'marital', 'previous']\n",
    "\n",
    "# Словарь для хранения разницы\n",
    "feature_importance_diff = {}\n",
    "\n",
    "# Оценка важности каждого признака\n",
    "for feature in features_to_test:\n",
    "    # Найдем все столбцы после one-hot кодирования\n",
    "    feature_columns = [col for col in X_train.columns if feature in col]\n",
    "    \n",
    "    # Исключаем признак(и) из данных\n",
    "    X_train_temp = X_train.drop(columns=feature_columns)\n",
    "    X_val_temp = X_val.drop(columns=feature_columns)\n",
    "\n",
    "    # Обучение модели на данных без одного признака\n",
    "    model_temp = LogisticRegression(solver='liblinear', C=1.0, max_iter=1000, random_state=42)\n",
    "    model_temp.fit(X_train_temp, y_train)\n",
    "    \n",
    "    # Вычисление точности на наборе\n",
    "    accuracy_temp = accuracy_score(y_val, model_temp.predict(X_val_temp))\n",
    "    \n",
    "    # Разница в точности\n",
    "    diff = base_accuracy - accuracy_temp\n",
    "    feature_importance_diff[feature] = round(diff, 4)\n",
    "    print(f\"Точность без признака {feature}: {round(accuracy_temp, 4)}, Разница: {round(diff, 4)}\")\n",
    "\n",
    "# Нахождение признака с наименьшей разницей\n",
    "least_important_feature = min(feature_importance_diff, key=feature_importance_diff.get)\n",
    "print(f\"Наименее важный признак: {least_important_feature}, Разница: {feature_importance_diff[least_important_feature]}\")\n"
   ]
  },
  {
   "cell_type": "markdown",
   "metadata": {},
   "source": [
    "# Вопрос 6"
   ]
  },
  {
   "cell_type": "code",
   "execution_count": 23,
   "metadata": {},
   "outputs": [
    {
     "name": "stdout",
     "output_type": "stream",
     "text": [
      "Точность при C=0.01: 0.8966\n",
      "Точность при C=0.1: 0.8989\n",
      "Точность при C=1: 0.8987\n",
      "Точность при C=10: 0.899\n",
      "Точность при C=100: 0.8996\n",
      "Наилучшее значение C: 100\n"
     ]
    },
    {
     "data": {
      "image/png": "[encoded data removed]",
      "text/plain": [
       "<Figure size 640x480 with 1 Axes>"
      ]
     },
     "metadata": {},
     "output_type": "display_data"
    }
   ],
   "source": [
    "import matplotlib.pyplot as plt\n",
    "\n",
    "# Значения C для тестирования\n",
    "C_values = [0.01, 0.1, 1, 10, 100]\n",
    "best_accuracy = 0\n",
    "best_C = 0\n",
    "accuracies = []\n",
    "\n",
    "# Перебираем значения\n",
    "for C in C_values:\n",
    "    model = LogisticRegression(solver='liblinear', C=C, max_iter=1000, random_state=42)\n",
    "    model.fit(X_train, y_train)\n",
    "    accuracy = accuracy_score(y_val, model.predict(X_val))\n",
    "    accuracies.append(accuracy)  # Сохраняем точность для каждого C\n",
    "    print(f\"Точность при C={C}: {round(accuracy, 4)}\")\n",
    "    \n",
    "    if accuracy > best_accuracy:\n",
    "        best_accuracy = accuracy\n",
    "        best_C = C\n",
    "\n",
    "print(\"Наилучшее значение C:\", best_C)\n",
    "\n",
    "# Визуализируем зависимости точности от C\n",
    "plt.plot(C_values, accuracies, marker='o')\n",
    "plt.xlabel('Значение C')\n",
    "plt.ylabel('Точность')\n",
    "plt.title('Зависимость точности от значения C')\n",
    "plt.grid(True)\n",
    "plt.show()\n"
   ]
  }
 ],
 "metadata": {
  "kernelspec": {
   "display_name": "Python 3",
   "language": "python",
   "name": "python3"
  },
  "language_info": {
   "codemirror_mode": {
    "name": "ipython",
    "version": 3
   },
   "file_extension": ".py",
   "mimetype": "text/x-python",
   "name": "python",
   "nbconvert_exporter": "python",
   "pygments_lexer": "ipython3",
   "version": "3.11.3"
  }
 },
 "nbformat": 4,
 "nbformat_minor": 2
}
